{
 "cells": [
  {
   "cell_type": "code",
   "execution_count": 19,
   "id": "dce4138b",
   "metadata": {},
   "outputs": [
    {
     "name": "stdout",
     "output_type": "stream",
     "text": [
      "Requirement already satisfied: arduino-iot-client in c:\\users\\hp\\anaconda3\\lib\\site-packages (1.4.2)\n",
      "Requirement already satisfied: certifi in c:\\users\\hp\\anaconda3\\lib\\site-packages (from arduino-iot-client) (2021.10.8)\n",
      "Requirement already satisfied: six>=1.10 in c:\\users\\hp\\anaconda3\\lib\\site-packages (from arduino-iot-client) (1.16.0)\n",
      "Requirement already satisfied: python-dateutil in c:\\users\\hp\\anaconda3\\lib\\site-packages (from arduino-iot-client) (2.8.2)\n",
      "Requirement already satisfied: urllib3>=1.15 in c:\\users\\hp\\anaconda3\\lib\\site-packages (from arduino-iot-client) (1.26.9)\n",
      "Note: you may need to restart the kernel to use updated packages.\n"
     ]
    }
   ],
   "source": [
    "pip install arduino-iot-client"
   ]
  },
  {
   "cell_type": "code",
   "execution_count": 20,
   "id": "a0899fa6",
   "metadata": {},
   "outputs": [
    {
     "name": "stdout",
     "output_type": "stream",
     "text": [
      "Requirement already satisfied: requests-oauthlib in c:\\users\\hp\\anaconda3\\lib\\site-packages (1.3.1)\n",
      "Requirement already satisfied: oauthlib>=3.0.0 in c:\\users\\hp\\anaconda3\\lib\\site-packages (from requests-oauthlib) (3.2.2)\n",
      "Requirement already satisfied: requests>=2.0.0 in c:\\users\\hp\\anaconda3\\lib\\site-packages (from requests-oauthlib) (2.27.1)\n",
      "Requirement already satisfied: idna<4,>=2.5 in c:\\users\\hp\\anaconda3\\lib\\site-packages (from requests>=2.0.0->requests-oauthlib) (3.3)\n",
      "Requirement already satisfied: urllib3<1.27,>=1.21.1 in c:\\users\\hp\\anaconda3\\lib\\site-packages (from requests>=2.0.0->requests-oauthlib) (1.26.9)\n",
      "Requirement already satisfied: charset-normalizer~=2.0.0 in c:\\users\\hp\\anaconda3\\lib\\site-packages (from requests>=2.0.0->requests-oauthlib) (2.0.4)\n",
      "Requirement already satisfied: certifi>=2017.4.17 in c:\\users\\hp\\anaconda3\\lib\\site-packages (from requests>=2.0.0->requests-oauthlib) (2021.10.8)\n",
      "Note: you may need to restart the kernel to use updated packages.\n"
     ]
    }
   ],
   "source": [
    "pip install requests-oauthlib"
   ]
  },
  {
   "cell_type": "code",
   "execution_count": 28,
   "id": "f37b7616",
   "metadata": {},
   "outputs": [
    {
     "name": "stdout",
     "output_type": "stream",
     "text": [
      "Got a token, expires in 300 seconds\n"
     ]
    }
   ],
   "source": [
    "import os\n",
    "\n",
    "import iot_api_client as iot\n",
    "\n",
    "from oauthlib.oauth2 import BackendApplicationClient\n",
    "from requests_oauthlib import OAuth2Session\n",
    "\n",
    "\n",
    "CLIENT_ID = \"Ij7686MXMIXCS4JyGJTe5nyQNQM6w7R9\"  # get a valid one from your Arduino Create account\n",
    "CLIENT_SECRET = \"BWbnmLopN6lUDPncNZ5zDmAYvHk81TQUbHWFACt9FwysSfqiBgQYhpkVeIYLtYDQ\"  # get a valid one from your Arduino Create account\n",
    "\n",
    "\n",
    "if __name__ == \"__main__\":\n",
    "    # Setup the OAuth2 session that'll be used to request the server an access token\n",
    "    oauth_client = BackendApplicationClient(client_id=CLIENT_ID)\n",
    "    token_url = \"https://api2.arduino.cc/iot/v1/clients/token\"\n",
    "    oauth = OAuth2Session(client=oauth_client)\n",
    "\n",
    "    # This will fire an actual HTTP call to the server to exchange client_id and\n",
    "    # client_secret with a fresh access token\n",
    "    token = oauth.fetch_token(\n",
    "        token_url=token_url,\n",
    "        client_id=CLIENT_ID,\n",
    "        client_secret=CLIENT_SECRET,\n",
    "        include_client_id=True,\n",
    "        audience=\"https://api2.arduino.cc/iot\",\n",
    "    )\n",
    "\n",
    "    # If we get here we got the token, print its expiration time\n",
    "    print(\"Got a token, expires in {} seconds\".format(token.get(\"expires_in\")))\n",
    "\n",
    "    # Now we setup the iot-api Python client, first of all create a\n",
    "    # configuration object. The access token goes in the config object.\n",
    "    client_config = iot.Configuration(host=\"https://api2.arduino.cc/iot\")\n",
    "    # client_config.debug = True\n",
    "    client_config.access_token = token.get(\"access_token\")\n",
    "\n",
    "    # Create the iot-api Python client with the given configuration\n",
    "    client = iot.ApiClient(client_config)\n",
    "\n",
    "    # Each API model has its own wrapper, here we want to interact with\n",
    "    # devices, so we create a DevicesV2Api object\n",
    "    devices = iot.DevicesV2Api(client)\n",
    "    things = iot.ThingsV2Api(client)\n",
    "    properties = iot.PropertiesV2Api(client)\n",
    "\n",
    "    # Get a list of devices, catching the specific exception"
   ]
  },
  {
   "cell_type": "code",
   "execution_count": 32,
   "id": "48d4314f",
   "metadata": {},
   "outputs": [
    {
     "name": "stdout",
     "output_type": "stream",
     "text": [
      "User device pid\n",
      "====================================\n",
      "2c7b8052-e8bf-4d4f-9391-dee629d6faa5\n"
     ]
    }
   ],
   "source": [
    "# Device\n",
    "print(\"Device\")\n",
    "print(\"====================================\")\n",
    "print(devices.devices_v2_list()[2].id)"
   ]
  },
  {
   "cell_type": "code",
   "execution_count": null,
   "id": "af91353a",
   "metadata": {},
   "outputs": [],
   "source": [
    "# User pid value\n",
    "print('User device pid')\n",
    "print(\"===================================================\")\n",
    "print(devices.devices_v2_get_properties('05c6d41d-bc37-4cd5-ac87-b0ad726e195b').properties[0].thing_id)"
   ]
  },
  {
   "cell_type": "code",
   "execution_count": 37,
   "id": "30448404",
   "metadata": {},
   "outputs": [
    {
     "name": "stdout",
     "output_type": "stream",
     "text": [
      "User device pid\n",
      "===================================================\n",
      "f9d0897d-b142-4b48-9a45-7d25a28d4e79\n",
      " \n",
      "User value: id value\n",
      "===================================================\n",
      "e_k1: f9d0897d-b142-4b48-9a45-7d25a28d4e79\n",
      "e_k2: f9d0897d-b142-4b48-9a45-7d25a28d4e79\n",
      "hum_max: f9d0897d-b142-4b48-9a45-7d25a28d4e79\n",
      "hum_min: f9d0897d-b142-4b48-9a45-7d25a28d4e79\n",
      "hum_off: f9d0897d-b142-4b48-9a45-7d25a28d4e79\n",
      "hum_on: f9d0897d-b142-4b48-9a45-7d25a28d4e79\n",
      "luminosity: f9d0897d-b142-4b48-9a45-7d25a28d4e79\n",
      "t_d: f9d0897d-b142-4b48-9a45-7d25a28d4e79\n",
      "temp_max: f9d0897d-b142-4b48-9a45-7d25a28d4e79\n",
      "t_i: f9d0897d-b142-4b48-9a45-7d25a28d4e79\n",
      "u_k1: f9d0897d-b142-4b48-9a45-7d25a28d4e79\n",
      "w_day: f9d0897d-b142-4b48-9a45-7d25a28d4e79\n",
      "w_night: f9d0897d-b142-4b48-9a45-7d25a28d4e79\n",
      "z_r: f9d0897d-b142-4b48-9a45-7d25a28d4e79\n",
      "fan_off: f9d0897d-b142-4b48-9a45-7d25a28d4e79\n",
      "fan_on: f9d0897d-b142-4b48-9a45-7d25a28d4e79\n",
      "light_off: f9d0897d-b142-4b48-9a45-7d25a28d4e79\n",
      "light_on: f9d0897d-b142-4b48-9a45-7d25a28d4e79\n",
      "sampling: f9d0897d-b142-4b48-9a45-7d25a28d4e79\n",
      "time_down: f9d0897d-b142-4b48-9a45-7d25a28d4e79\n",
      "time_up: f9d0897d-b142-4b48-9a45-7d25a28d4e79\n",
      "vent_duration: f9d0897d-b142-4b48-9a45-7d25a28d4e79\n",
      "vent_start: f9d0897d-b142-4b48-9a45-7d25a28d4e79\n"
     ]
    }
   ],
   "source": [
    "# User id values\n",
    "print('User value: id value')\n",
    "print(\"===================================================\")\n",
    "for i in (devices.devices_v2_get_properties('05c6d41d-bc37-4cd5-ac87-b0ad726e195b').properties):\n",
    "    print(i.name + ': ' + i.thing_id)"
   ]
  }
 ],
 "metadata": {
  "kernelspec": {
   "display_name": "Python 3.9.12 ('base')",
   "language": "python",
   "name": "python3"
  },
  "language_info": {
   "codemirror_mode": {
    "name": "ipython",
    "version": 3
   },
   "file_extension": ".py",
   "mimetype": "text/x-python",
   "name": "python",
   "nbconvert_exporter": "python",
   "pygments_lexer": "ipython3",
   "version": "3.9.12"
  },
  "vscode": {
   "interpreter": {
    "hash": "dc07d24e2f18896857f0b2a651fe84ba40ce7b297e58d8804a308c8039f752a6"
   }
  }
 },
 "nbformat": 4,
 "nbformat_minor": 5
}
